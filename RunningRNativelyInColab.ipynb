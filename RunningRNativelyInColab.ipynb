{
  "nbformat": 4,
  "nbformat_minor": 0,
  "metadata": {
    "colab": {
      "name": "RunningRNativelyInColab.ipynb",
      "version": "0.3.2",
      "provenance": [],
      "collapsed_sections": []
    },
    "kernelspec": {
      "name": "ir",
      "display_name": "R"
    }
  },
  "cells": [
    {
      "cell_type": "code",
      "metadata": {
        "id": "SPYGePw53fWq",
        "colab_type": "code",
        "colab": {}
      },
      "source": [
        "system(\"add-apt-repository -y ppa:marutter/rrutter\")\n",
        "system(\"add-apt-repository -y ppa:marutter/c2d4u\")\n",
        "system(\"apt-get update\")\n",
        "system(\"apt install -y r-cran-rstan\")"
      ],
      "execution_count": 0,
      "outputs": []
    },
    {
      "cell_type": "code",
      "metadata": {
        "id": "1IzjHJFxv01f",
        "colab_type": "code",
        "outputId": "f27d434c-4c65-446a-e7f0-6802a5912dc3",
        "colab": {
          "base_uri": "https://localhost:8080/",
          "height": 52
        }
      },
      "source": [
        "install.packages('dplyr')"
      ],
      "execution_count": 2,
      "outputs": [
        {
          "output_type": "stream",
          "text": [
            "Installing package into ‘/usr/local/lib/R/site-library’\n",
            "(as ‘lib’ is unspecified)\n"
          ],
          "name": "stderr"
        }
      ]
    },
    {
      "cell_type": "code",
      "metadata": {
        "id": "sdyV67dk2vGx",
        "colab_type": "code",
        "outputId": "0de46791-debb-4fbe-bb43-1e2fc5b3bb18",
        "colab": {
          "base_uri": "https://localhost:8080/",
          "height": 208
        }
      },
      "source": [
        "library(\"dplyr\")"
      ],
      "execution_count": 3,
      "outputs": [
        {
          "output_type": "stream",
          "text": [
            "\n",
            "Attaching package: ‘dplyr’\n",
            "\n",
            "The following objects are masked from ‘package:stats’:\n",
            "\n",
            "    filter, lag\n",
            "\n",
            "The following objects are masked from ‘package:base’:\n",
            "\n",
            "    intersect, setdiff, setequal, union\n",
            "\n"
          ],
          "name": "stderr"
        }
      ]
    },
    {
      "cell_type": "code",
      "metadata": {
        "id": "qIbhtDzdwYdB",
        "colab_type": "code",
        "colab": {}
      },
      "source": [
        "options(repr.plot.width  = 5,\n",
        "        repr.plot.height = 5)\n",
        "Sys.setenv(USE_CXX14 = 1)\n",
        "options(mc.cores = parallel::detectCores())\n"
      ],
      "execution_count": 0,
      "outputs": []
    },
    {
      "cell_type": "code",
      "metadata": {
        "id": "3o11KxDzyC0g",
        "colab_type": "code",
        "colab": {}
      },
      "source": [
        "library(readr)\n",
        "myData <- read.csv('yahoo_close.csv')"
      ],
      "execution_count": 0,
      "outputs": []
    },
    {
      "cell_type": "code",
      "metadata": {
        "id": "T3ePaitDCL3B",
        "colab_type": "code",
        "colab": {
          "base_uri": "https://localhost:8080/",
          "height": 295
        },
        "outputId": "c993a780-0352-4076-896d-fbfc1bf0748e"
      },
      "source": [
        "summary(myData)"
      ],
      "execution_count": 16,
      "outputs": [
        {
          "output_type": "display_data",
          "data": {
            "text/plain": [
              "      year          month          week         monthweek     weekday  \n",
              " Min.   :2012   Aug    :110   Min.   : 0.00   Min.   :1.000   Fri:252  \n",
              " 1st Qu.:2013   Oct    :110   1st Qu.:13.00   1st Qu.:2.000   Mon:237  \n",
              " Median :2014   Jul    :107   Median :26.00   Median :3.000   Thu:253  \n",
              " Mean   :2014   Mar    :107   Mean   :26.29   Mean   :2.942   Tue:258  \n",
              " 3rd Qu.:2015   Dec    :106   3rd Qu.:39.00   3rd Qu.:4.000   Wed:258  \n",
              " Max.   :2016   Jun    :106   Max.   :53.00   Max.   :5.000            \n",
              "                (Other):612                                            \n",
              "   VIX.Close    \n",
              " Min.   :10.32  \n",
              " 1st Qu.:13.31  \n",
              " Median :14.78  \n",
              " Mean   :15.74  \n",
              " 3rd Qu.:17.24  \n",
              " Max.   :40.74  \n",
              "                "
            ]
          },
          "metadata": {
            "tags": []
          }
        }
      ]
    },
    {
      "cell_type": "code",
      "metadata": {
        "id": "dIH3nIu1E_zi",
        "colab_type": "code",
        "colab": {
          "base_uri": "https://localhost:8080/",
          "height": 156
        },
        "outputId": "99e31c2a-49e6-46c2-c307-3995fc5e2436"
      },
      "source": [
        "sum1 <- myData %>% group_by(weekday) %>% summarize(AvgPrice = mean(VIX.Close, na.rm=T))\n",
        "print(sum1)"
      ],
      "execution_count": 20,
      "outputs": [
        {
          "output_type": "stream",
          "text": [
            "\u001b[90m# A tibble: 5 x 2\u001b[39m\n",
            "  weekday AvgPrice\n",
            "  \u001b[3m\u001b[90m<fct>\u001b[39m\u001b[23m      \u001b[3m\u001b[90m<dbl>\u001b[39m\u001b[23m\n",
            "\u001b[90m1\u001b[39m Fri         15.6\n",
            "\u001b[90m2\u001b[39m Mon         15.8\n",
            "\u001b[90m3\u001b[39m Thu         15.7\n",
            "\u001b[90m4\u001b[39m Tue         15.8\n",
            "\u001b[90m5\u001b[39m Wed         15.8\n"
          ],
          "name": "stdout"
        }
      ]
    },
    {
      "cell_type": "code",
      "metadata": {
        "id": "3oltRw5iFMAB",
        "colab_type": "code",
        "colab": {
          "base_uri": "https://localhost:8080/",
          "height": 617
        },
        "outputId": "ea77f590-a9d2-41ec-b5cf-19cc5651e87e"
      },
      "source": [
        "barplot(sum1$AvgPrice, names.arg = sum1$weekday)"
      ],
      "execution_count": 21,
      "outputs": [
        {
          "output_type": "display_data",
          "data": {
            "image/png": "[encoded data removed]",
            "text/plain": [
              "plot without title"
            ]
          },
          "metadata": {
            "tags": []
          }
        }
      ]
    },
    {
      "cell_type": "code",
      "metadata": {
        "id": "xqLBw259FZxC",
        "colab_type": "code",
        "colab": {
          "base_uri": "https://localhost:8080/",
          "height": 617
        },
        "outputId": "5448d915-2fcd-49ae-94d4-27e4b01bd9e9"
      },
      "source": [
        "x <- seq(0, 2*pi, length.out=50)\n",
        "plot(x, sin(x), type='l')"
      ],
      "execution_count": 24,
      "outputs": [
        {
          "output_type": "display_data",
          "data": {
            "image/png": "[encoded data removed]",
            "text/plain": [
              "plot without title"
            ]
          },
          "metadata": {
            "tags": []
          }
        }
      ]
    },
    {
      "cell_type": "code",
      "metadata": {
        "id": "3C0LnUcgFijp",
        "colab_type": "code",
        "colab": {}
      },
      "source": [
        ""
      ],
      "execution_count": 0,
      "outputs": []
    }
  ]
}